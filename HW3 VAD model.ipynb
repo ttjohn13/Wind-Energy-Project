{
 "cells": [
  {
   "cell_type": "markdown",
   "source": [
    "Part A asks to create an artificial 3D vector field with 2D horizontal vectors.\n"
   ],
   "metadata": {
    "collapsed": false
   },
   "id": "bcf8a4fc6e48c7bb"
  },
  {
   "cell_type": "code",
   "execution_count": 1,
   "outputs": [],
   "source": [
    "import pandas as pd\n",
    "import matplotlib.pyplot as plt\n",
    "import numpy as np\n",
    "import scipy as sp"
   ],
   "metadata": {
    "collapsed": false,
    "ExecuteTime": {
     "end_time": "2023-11-05T18:05:26.554109100Z",
     "start_time": "2023-11-05T18:05:25.397103500Z"
    }
   },
   "id": "484dd9f3c4421ecd"
  },
  {
   "cell_type": "markdown",
   "source": [
    "Part B asks to create an artificial vector field. This will be a 3 dimensional field with 2d horizontal vecotors. The artificial vector field will be composed by creating a column vector that is copied to the other places. There will be two profiles selected, the log law and power law profiles. An Ekman spiral will also be added to the vector. Variation will be added with up to a random 10% \"kick\"."
   ],
   "metadata": {
    "collapsed": false
   },
   "id": "dcb3bd5c2cba838a"
  },
  {
   "cell_type": "code",
   "execution_count": 2,
   "outputs": [
    {
     "name": "stderr",
     "output_type": "stream",
     "text": [
      "C:\\Users\\trevo\\AppData\\Local\\Temp\\ipykernel_11572\\862430883.py:14: RuntimeWarning: divide by zero encountered in log\n",
      "  U_z = u_friction_velocity/Karman_const * np.log(z_location/roughness_parameter) # log law\n"
     ]
    }
   ],
   "source": [
    "''' A 1 km square with a height of 300 meters is going to be used with a 1000 vertical point resolution.\n",
    "The column vector will be a 1000 by 2 matrix. This is 1000 rows with 2 columns. Each row will the vector at a discrete height. The two columns will correspond to a u and v component of the vector.'''\n",
    "height = 300 # number of meters in height\n",
    "number_of_vertical_points = 1000 # resolution in meters\n",
    "ColumnVecSize = (number_of_vertical_points,2) # size of column vector using the height and resolution\n",
    "# Allocation of memory for column vector\n",
    "ColumnVector_loglaw = np.zeros(ColumnVecSize, dtype=float) # float data type designation\n",
    "z_location = np.linspace(0,height, number_of_vertical_points,dtype=float)\n",
    "\n",
    "\n",
    "roughness_parameter = 0.01 # Common roughness parameter for crop/flat land region\n",
    "Karman_const = 0.41 # Karman constant for log law\n",
    "u_friction_velocity = 1.2 * Karman_const # number is picked to have Uinf close to 12 m/s\n",
    "U_z = u_friction_velocity/Karman_const * np.log(z_location/roughness_parameter) # log law\n",
    "U_z[0] = 0 # sets NaN part due to ln(0) to 0 at boundary\n",
    "\n",
    "ColumnVector_loglaw[:,0] = U_z # assign U to the column vector U position"
   ],
   "metadata": {
    "collapsed": false,
    "ExecuteTime": {
     "end_time": "2023-11-05T18:05:26.568112500Z",
     "start_time": "2023-11-05T18:05:26.557140Z"
    }
   },
   "id": "abbe7c0e65d30bd5"
  },
  {
   "cell_type": "code",
   "execution_count": 3,
   "outputs": [],
   "source": [
    "from EkmanSpiral import Ekman_Spiral\n",
    "ColumnVector_loglaw_spiral = Ekman_Spiral(ColumnVector_loglaw,z_location) # add spiral component to field"
   ],
   "metadata": {
    "collapsed": false,
    "ExecuteTime": {
     "end_time": "2023-11-05T18:05:26.629102100Z",
     "start_time": "2023-11-05T18:05:26.568112500Z"
    }
   },
   "id": "f3c93b56abc9783"
  },
  {
   "cell_type": "code",
   "execution_count": 4,
   "outputs": [],
   "source": [
    "import Create3DSpace\n",
    "x, y, space = Create3DSpace.Space_Field(ColumnVector_loglaw_spiral, 300, 100)  # space is a 4d matrix defined as follows [x, y, z, vector selection (u=1 v=2)]. The last two dimensions are the original \n",
    "\n",
    "space_kicked = Create3DSpace.kick(space,0.05)# 5% random kick to each individual value"
   ],
   "metadata": {
    "collapsed": false,
    "ExecuteTime": {
     "end_time": "2023-11-05T18:05:27.104118Z",
     "start_time": "2023-11-05T18:05:26.584103300Z"
    }
   },
   "id": "4068a015e5e90882"
  },
  {
   "cell_type": "code",
   "execution_count": 5,
   "outputs": [
    {
     "data": {
      "text/plain": "\" runs matlab import code. List is of object class lidarData which has a date, and 4 matrices named aximuth, elevation, rad_vector, and range. To access each set of lidar data use lidar_data.'name of variable matrix'\\n\""
     },
     "execution_count": 5,
     "metadata": {},
     "output_type": "execute_result"
    }
   ],
   "source": [
    "from Matlab_Import import LidarData, matlabimport\n",
    "lidar_data = matlabimport()  # get matlab data\n",
    "\"\"\" runs matlab import code. List is of object class lidarData which has a date, and 4 matrices named aximuth, elevation, rad_vector, and range. To access each set of lidar data use lidar_data.'name of variable matrix'\n",
    "\"\"\"\n"
   ],
   "metadata": {
    "collapsed": false,
    "ExecuteTime": {
     "end_time": "2023-11-05T18:05:27.625102800Z",
     "start_time": "2023-11-05T18:05:27.107103800Z"
    }
   },
   "id": "51fcaec5202c1c8"
  },
  {
   "cell_type": "code",
   "execution_count": 6,
   "outputs": [],
   "source": [
    "import Slicing_and_Interp as SandI\n",
    "\n",
    "elevation = np.array([75])  # set elevation of scan\n",
    "number_of_scans = 80  # number of scans per range ring\n",
    "azimuthals = np.reshape(np.linspace(0, 360, number_of_scans), (-1, 1))  # evenly spaced angles for azimuth rotation\n",
    "lidar_location = np.array([x[50], y[50], 0])  # define lidar location\n",
    "# create space for iterating variables\n",
    "u_interp_val = np.zeros((len(z_location)-1, number_of_scans))  \n",
    "v_interp_val = np.zeros((len(z_location)-1, number_of_scans))\n",
    "x_lidar = np.zeros((len(z_location)-1, number_of_scans))\n",
    "y_lidar = np.zeros((len(z_location)-1, number_of_scans))\n",
    "z_lidar = np.zeros((len(z_location)-1, number_of_scans))\n",
    "\n",
    "# loop for each horizontal plane, exclude 0 plane\n",
    "for i in np.arange(1, len(z_location)):\n",
    "    u_interp_val[i-1, :], v_interp_val[i-1, :], x_lidar[i-1, :], y_lidar[i-1, :], z_lidar[i-1, :] = SandI.slice_points(space_kicked, x, y, z_location, azimuthals, elevation, z_location[i], lidar_loc=lidar_location)\n",
    "\n",
    "# space for projection iterables\n",
    "laser_vect = np.zeros((np.size(x_lidar, axis=0), np.size(x_lidar, axis=1), 3)) \n",
    "laser_speed = np.zeros_like(x_lidar)\n",
    "\n",
    "# loop to get speeds and laser vectors\n",
    "for i in np.arange(np.size(laser_speed, axis=0)):\n",
    "    measlocation = np.hstack((x_lidar[i, :].reshape((-1,1)), y_lidar[i, :].reshape((-1,1)), z_lidar[i, :].reshape((-1,1))))\n",
    "    laser_vect[i, :, :], laser_speed[i, :] = SandI.vectorProjection(u_interp_val[i, :].T, v_interp_val[i, :].T, measlocation, lidar_location)\n",
    "    \n",
    "    "
   ],
   "metadata": {
    "collapsed": false,
    "ExecuteTime": {
     "end_time": "2023-11-05T18:05:29.471103Z",
     "start_time": "2023-11-05T18:05:27.630104900Z"
    }
   },
   "id": "634598bd5ff13b2"
  },
  {
   "cell_type": "code",
   "execution_count": 8,
   "outputs": [
    {
     "name": "stderr",
     "output_type": "stream",
     "text": [
      "C:\\Users\\trevo\\PycharmProjects\\MAE579\\Wind Energy Project\\VAD_Alg.py:7: FutureWarning: `rcond` parameter will change to the default of machine precision times ``max(M, N)`` where M and N are the input matrix dimensions.\n",
      "To use the future default and silence this warning we advise to pass `rcond=None`, to keep using the old, explicitly pass `rcond=-1`.\n",
      "  Xhat = np.linalg.lstsq(normed_rad_vect, radial_velocity)\n"
     ]
    }
   ],
   "source": [
    "import VAD_Alg as VAD\n",
    "\n",
    "lidar_VAD_loglaw = []\n",
    "for i in range(np.size(laser_vect, axis=0)):\n",
    "    VAD_output = VAD.vad_extraction(laser_vect[500, :, :], laser_speed[500, :].reshape(-1, 1))\n",
    "    VAD_output_vect = VAD_output[0]\n",
    "    lidar_VAD_loglaw.append(VAD_output_vect)\n",
    "    \n",
    "    "
   ],
   "metadata": {
    "collapsed": false,
    "ExecuteTime": {
     "end_time": "2023-11-05T20:05:25.002451900Z",
     "start_time": "2023-11-05T20:05:24.989640100Z"
    }
   },
   "id": "5c68fd7db3c666e7"
  },
  {
   "cell_type": "code",
   "execution_count": null,
   "outputs": [],
   "source": [],
   "metadata": {
    "collapsed": false
   },
   "id": "476011cbf230a6ab"
  }
 ],
 "metadata": {
  "kernelspec": {
   "display_name": "Python 3",
   "language": "python",
   "name": "python3"
  },
  "language_info": {
   "codemirror_mode": {
    "name": "ipython",
    "version": 2
   },
   "file_extension": ".py",
   "mimetype": "text/x-python",
   "name": "python",
   "nbconvert_exporter": "python",
   "pygments_lexer": "ipython2",
   "version": "2.7.6"
  }
 },
 "nbformat": 4,
 "nbformat_minor": 5
}
