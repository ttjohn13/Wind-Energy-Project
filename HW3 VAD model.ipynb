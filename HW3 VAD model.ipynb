{
 "cells": [
  {
   "cell_type": "markdown",
   "source": [
    "Part A asks to create an artificial 3D vector field with 2D horizontal vectors.\n"
   ],
   "metadata": {
    "collapsed": false
   },
   "id": "bcf8a4fc6e48c7bb"
  },
  {
   "cell_type": "code",
   "execution_count": 1,
   "outputs": [],
   "source": [
    "import pandas as pd\n",
    "import matplotlib.pyplot as plt\n",
    "import numpy as np"
   ],
   "metadata": {
    "collapsed": false,
    "ExecuteTime": {
     "end_time": "2023-10-31T16:02:23.003901900Z",
     "start_time": "2023-10-31T16:02:21.143807300Z"
    }
   },
   "id": "484dd9f3c4421ecd"
  },
  {
   "cell_type": "markdown",
   "source": [
    "Part B asks to create an artificial vector field. This will be a 3 dimensional field with 2d horizontal vecotors. The artificial vector field will be composed by creating a column vector that is copied to the other places. There will be two profiles selected, the log law and power law profiles. An Ekman spiral will also be added to the vector. Variation will be added with up to a random 10% \"kick\"."
   ],
   "metadata": {
    "collapsed": false
   },
   "id": "dcb3bd5c2cba838a"
  },
  {
   "cell_type": "code",
   "execution_count": 15,
   "outputs": [
    {
     "name": "stderr",
     "output_type": "stream",
     "text": [
      "C:\\Users\\trevo\\AppData\\Local\\Temp\\ipykernel_15224\\2308281030.py:14: RuntimeWarning: divide by zero encountered in log\n",
      "  U_y = u_friction_velocity/Karman_const * np.log(y_location/roughness_parameter) # log law\n"
     ]
    }
   ],
   "source": [
    "''' A 1 km square with a height of 300 meters is going to be used with a 1000 vertical point resolution.\n",
    "The column vector will be a 1000 by 2 matrix. This is 1000 rows with 2 columns. Each row will the vector at a discrete height. The two columns will correspond to a u and v component of the vector.'''\n",
    "height = 300 # number of meters in height\n",
    "number_of_vertical_points = 1000 # resolution in meters\n",
    "ColumnVecSize = (number_of_vertical_points,2) # size of column vector using the height and resolution\n",
    "# Allocation of memory for column vector\n",
    "ColumnVector_loglaw = np.zeros(ColumnVecSize, dtype=float) # float data type designation\n",
    "z_location = np.linspace(0,height, number_of_vertical_points,dtype=float)\n",
    "\n",
    "\n",
    "roughness_parameter = 0.01 # Common roughness parameter for crop/flat land region\n",
    "Karman_const = 0.41 # Karman constant for log law\n",
    "u_friction_velocity = 1.2 * Karman_const # number is picked to have Uinf close to 12 m/s\n",
    "U_z = u_friction_velocity/Karman_const * np.log(z_location/roughness_parameter) # log law\n",
    "U_z[0] = 0 # sets NaN part due to ln(0) to 0 at boundary\n",
    "\n",
    "ColumnVector_loglaw[:,0] = U_z # assign U to the column vector U position"
   ],
   "metadata": {
    "collapsed": false,
    "ExecuteTime": {
     "end_time": "2023-10-31T22:20:53.744685400Z",
     "start_time": "2023-10-31T22:20:53.735670200Z"
    }
   },
   "id": "abbe7c0e65d30bd5"
  },
  {
   "cell_type": "code",
   "execution_count": 19,
   "outputs": [],
   "source": [
    "from EkmanSpiral import Ekman_Spiral\n",
    "ColumnVector_loglaw_spiral = Ekman_Spiral(ColumnVector_loglaw,z_location) # add spiral component to field"
   ],
   "metadata": {
    "collapsed": false,
    "ExecuteTime": {
     "end_time": "2023-10-31T22:55:35.603514600Z",
     "start_time": "2023-10-31T22:55:02.655033500Z"
    }
   },
   "id": "f3c93b56abc9783"
  },
  {
   "cell_type": "code",
   "execution_count": 20,
   "outputs": [],
   "source": [
    "import Create3DSpace as C3D\n",
    "x, y, space = C3D.Space_Field(ColumnVector_loglaw_spiral, 300, 100)  # space is a 4d matrix defined as follows [x, y, z, vector selection (u=1 v=2)]. The last two dimensions are the original \n"
   ],
   "metadata": {
    "collapsed": false,
    "ExecuteTime": {
     "end_time": "2023-11-01T03:24:51.205689600Z",
     "start_time": "2023-11-01T03:24:51.144412400Z"
    }
   },
   "id": "4068a015e5e90882"
  },
  {
   "cell_type": "code",
   "execution_count": null,
   "outputs": [],
   "source": [],
   "metadata": {
    "collapsed": false
   },
   "id": "51fcaec5202c1c8"
  }
 ],
 "metadata": {
  "kernelspec": {
   "display_name": "Python 3",
   "language": "python",
   "name": "python3"
  },
  "language_info": {
   "codemirror_mode": {
    "name": "ipython",
    "version": 2
   },
   "file_extension": ".py",
   "mimetype": "text/x-python",
   "name": "python",
   "nbconvert_exporter": "python",
   "pygments_lexer": "ipython2",
   "version": "2.7.6"
  }
 },
 "nbformat": 4,
 "nbformat_minor": 5
}
