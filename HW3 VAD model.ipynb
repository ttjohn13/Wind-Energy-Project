{
 "cells": [
  {
   "cell_type": "markdown",
   "source": [
    "Part A asks to create an artificial 3D vector field with 2D horizontal vectors.\n"
   ],
   "metadata": {
    "collapsed": false
   },
   "id": "bcf8a4fc6e48c7bb"
  },
  {
   "cell_type": "code",
   "execution_count": 1,
   "outputs": [
    {
     "name": "stdout",
     "output_type": "stream",
     "text": [
      "Hello Git\n"
     ]
    }
   ],
   "source": [
    "import pandas as pd\n",
    "import matplotlib.pyplot as plt\n",
    "import numpy as np\n",
    "print('Hello Git')"
   ],
   "metadata": {
    "collapsed": false,
    "ExecuteTime": {
     "end_time": "2023-10-29T18:49:54.633957900Z",
     "start_time": "2023-10-29T18:49:53.535727300Z"
    }
   },
   "id": "484dd9f3c4421ecd"
  },
  {
   "cell_type": "markdown",
   "source": [
    "Part B asks to create an artificial vector field. This will be a 3 dimensional field with 2d horizontal vecotors. The artificial vector field will be composed by creating a column vector that is copied to the other places. There will be two profiles selected, the log law and power law profiles. An Ekman spiral will also be added to the vector. Variation will be added with up to a random 10% \"kick\"."
   ],
   "metadata": {
    "collapsed": false
   },
   "id": "dcb3bd5c2cba838a"
  },
  {
   "cell_type": "code",
   "execution_count": 8,
   "outputs": [],
   "source": [
    "''' A 1 km cube is going to be used with a 1 m resolution.\n",
    "The column vector will be a 1000 by 2 matrix. This is 1000 rows with 2 columns. Each row will the vector at a discrete height. The two columns will correspond to a u and v component of the vector.'''\n",
    "height = 1000 # number of meters in height\n",
    "resolution = 1 # resolution in meters\n",
    "ColumnVecSize = (height//resolution,2) # size of column vector using the height and resolution\n",
    "# Allocation of memory for column vector\n",
    "ColumnVector = np.zeros(ColumnVecSize, dtype=float) # float data type designation\n",
    "\n",
    "y_location = np.arange(0,height,resolution,dtype=float) # define the heights of each vector\n",
    "\n",
    "U_inf = 12 # speed of wind outside of boundary incfluence\n",
    "\n",
    "rho = 1.293 # density of dry air at STP kg/m^3\n",
    "\n",
    "u_friction_velocity = np.sqrt(wall_shear / rho)\n",
    "viscous_length_scale = nu / u_friction_velocity\n",
    "y_plus = y_location / viscous_length_scale\n",
    "Karman_const = 0.41 # Karman constant for log law\n",
    "E_const = 7.76 # offset constant\n",
    "U_plus = 1/Karman_const * np.log(y_plus*E_const)\n",
    "\n",
    "print('Cool this works')"
   ],
   "metadata": {
    "collapsed": false,
    "ExecuteTime": {
     "end_time": "2023-10-29T20:16:29.564247800Z",
     "start_time": "2023-10-29T20:16:29.535685800Z"
    }
   },
   "id": "abbe7c0e65d30bd5"
  },
  {
   "cell_type": "code",
   "execution_count": null,
   "outputs": [],
   "source": [],
   "metadata": {
    "collapsed": false
   },
   "id": "f3c93b56abc9783"
  }
 ],
 "metadata": {
  "kernelspec": {
   "display_name": "Python 3",
   "language": "python",
   "name": "python3"
  },
  "language_info": {
   "codemirror_mode": {
    "name": "ipython",
    "version": 2
   },
   "file_extension": ".py",
   "mimetype": "text/x-python",
   "name": "python",
   "nbconvert_exporter": "python",
   "pygments_lexer": "ipython2",
   "version": "2.7.6"
  }
 },
 "nbformat": 4,
 "nbformat_minor": 5
}
