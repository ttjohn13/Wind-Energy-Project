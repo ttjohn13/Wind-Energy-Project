{
 "cells": [
  {
   "cell_type": "markdown",
   "source": [
    "Part A asks to create an artificial 3D vector field with 2D horizontal vectors.\n"
   ],
   "metadata": {
    "collapsed": false
   },
   "id": "bcf8a4fc6e48c7bb"
  },
  {
   "cell_type": "code",
   "execution_count": 1,
   "outputs": [],
   "source": [
    "import pandas as pd\n",
    "import matplotlib.pyplot as plt\n",
    "import numpy as np\n",
    "import scipy as sp"
   ],
   "metadata": {
    "collapsed": false,
    "ExecuteTime": {
     "end_time": "2023-11-04T23:12:39.593827600Z",
     "start_time": "2023-11-04T23:12:38.593799800Z"
    }
   },
   "id": "484dd9f3c4421ecd"
  },
  {
   "cell_type": "markdown",
   "source": [
    "Part B asks to create an artificial vector field. This will be a 3 dimensional field with 2d horizontal vecotors. The artificial vector field will be composed by creating a column vector that is copied to the other places. There will be two profiles selected, the log law and power law profiles. An Ekman spiral will also be added to the vector. Variation will be added with up to a random 10% \"kick\"."
   ],
   "metadata": {
    "collapsed": false
   },
   "id": "dcb3bd5c2cba838a"
  },
  {
   "cell_type": "code",
   "execution_count": 2,
   "outputs": [
    {
     "name": "stderr",
     "output_type": "stream",
     "text": [
      "C:\\Users\\trevo\\AppData\\Local\\Temp\\ipykernel_23116\\862430883.py:14: RuntimeWarning: divide by zero encountered in log\n",
      "  U_z = u_friction_velocity/Karman_const * np.log(z_location/roughness_parameter) # log law\n"
     ]
    }
   ],
   "source": [
    "''' A 1 km square with a height of 300 meters is going to be used with a 1000 vertical point resolution.\n",
    "The column vector will be a 1000 by 2 matrix. This is 1000 rows with 2 columns. Each row will the vector at a discrete height. The two columns will correspond to a u and v component of the vector.'''\n",
    "height = 300 # number of meters in height\n",
    "number_of_vertical_points = 1000 # resolution in meters\n",
    "ColumnVecSize = (number_of_vertical_points,2) # size of column vector using the height and resolution\n",
    "# Allocation of memory for column vector\n",
    "ColumnVector_loglaw = np.zeros(ColumnVecSize, dtype=float) # float data type designation\n",
    "z_location = np.linspace(0,height, number_of_vertical_points,dtype=float)\n",
    "\n",
    "\n",
    "roughness_parameter = 0.01 # Common roughness parameter for crop/flat land region\n",
    "Karman_const = 0.41 # Karman constant for log law\n",
    "u_friction_velocity = 1.2 * Karman_const # number is picked to have Uinf close to 12 m/s\n",
    "U_z = u_friction_velocity/Karman_const * np.log(z_location/roughness_parameter) # log law\n",
    "U_z[0] = 0 # sets NaN part due to ln(0) to 0 at boundary\n",
    "\n",
    "ColumnVector_loglaw[:,0] = U_z # assign U to the column vector U position"
   ],
   "metadata": {
    "collapsed": false,
    "ExecuteTime": {
     "end_time": "2023-11-04T23:12:39.609830400Z",
     "start_time": "2023-11-04T23:12:39.598804500Z"
    }
   },
   "id": "abbe7c0e65d30bd5"
  },
  {
   "cell_type": "code",
   "execution_count": 3,
   "outputs": [],
   "source": [
    "from EkmanSpiral import Ekman_Spiral\n",
    "ColumnVector_loglaw_spiral = Ekman_Spiral(ColumnVector_loglaw,z_location) # add spiral component to field"
   ],
   "metadata": {
    "collapsed": false,
    "ExecuteTime": {
     "end_time": "2023-11-04T23:12:39.654799500Z",
     "start_time": "2023-11-04T23:12:39.612801900Z"
    }
   },
   "id": "f3c93b56abc9783"
  },
  {
   "cell_type": "code",
   "execution_count": 4,
   "outputs": [],
   "source": [
    "import Create3DSpace\n",
    "x, y, space = Create3DSpace.Space_Field(ColumnVector_loglaw_spiral, 300, 100)  # space is a 4d matrix defined as follows [x, y, z, vector selection (u=1 v=2)]. The last two dimensions are the original \n",
    "\n",
    "space_kicked = Create3DSpace.kick(space,0.05)# 5% random kick to each individual value"
   ],
   "metadata": {
    "collapsed": false,
    "ExecuteTime": {
     "end_time": "2023-11-04T23:12:40.121807500Z",
     "start_time": "2023-11-04T23:12:39.627804200Z"
    }
   },
   "id": "4068a015e5e90882"
  },
  {
   "cell_type": "code",
   "execution_count": 5,
   "outputs": [
    {
     "data": {
      "text/plain": "\" runs matlab import code. List is of object class lidarData which has a date, and 4 matrices named aximuth, elevation, rad_vector, and range. To access each set of lidar data use lidar_data.'name of variable matrix'\\n\""
     },
     "execution_count": 5,
     "metadata": {},
     "output_type": "execute_result"
    }
   ],
   "source": [
    "from Matlab_Import import LidarData, matlabimport\n",
    "lidar_data = matlabimport()  \n",
    "\"\"\" runs matlab import code. List is of object class lidarData which has a date, and 4 matrices named aximuth, elevation, rad_vector, and range. To access each set of lidar data use lidar_data.'name of variable matrix'\n",
    "\"\"\"\n"
   ],
   "metadata": {
    "collapsed": false,
    "ExecuteTime": {
     "end_time": "2023-11-04T23:12:40.647801500Z",
     "start_time": "2023-11-04T23:12:40.125803100Z"
    }
   },
   "id": "51fcaec5202c1c8"
  },
  {
   "cell_type": "code",
   "execution_count": 6,
   "outputs": [
    {
     "ename": "IndexError",
     "evalue": "too many indices for array: array is 0-dimensional, but 1 were indexed",
     "output_type": "error",
     "traceback": [
      "\u001B[1;31m---------------------------------------------------------------------------\u001B[0m",
      "\u001B[1;31mIndexError\u001B[0m                                Traceback (most recent call last)",
      "Cell \u001B[1;32mIn[6], line 6\u001B[0m\n\u001B[0;32m      4\u001B[0m azimuthals \u001B[38;5;241m=\u001B[39m np\u001B[38;5;241m.\u001B[39mreshape(np\u001B[38;5;241m.\u001B[39mlinspace(\u001B[38;5;241m0\u001B[39m, \u001B[38;5;241m360\u001B[39m, \u001B[38;5;241m80\u001B[39m), (\u001B[38;5;241m-\u001B[39m\u001B[38;5;241m1\u001B[39m, \u001B[38;5;241m1\u001B[39m))\n\u001B[0;32m      5\u001B[0m lidar_location \u001B[38;5;241m=\u001B[39m np\u001B[38;5;241m.\u001B[39marray([x[\u001B[38;5;241m50\u001B[39m], y[\u001B[38;5;241m50\u001B[39m], \u001B[38;5;241m0\u001B[39m])\n\u001B[1;32m----> 6\u001B[0m ring \u001B[38;5;241m=\u001B[39m \u001B[43mSandI\u001B[49m\u001B[38;5;241;43m.\u001B[39;49m\u001B[43mslice_points\u001B[49m\u001B[43m(\u001B[49m\u001B[43mspace_kicked\u001B[49m\u001B[43m,\u001B[49m\u001B[43m \u001B[49m\u001B[43mx\u001B[49m\u001B[43m,\u001B[49m\u001B[43m \u001B[49m\u001B[43my\u001B[49m\u001B[43m,\u001B[49m\u001B[43m \u001B[49m\u001B[43mz_location\u001B[49m\u001B[43m[\u001B[49m\u001B[38;5;241;43m500\u001B[39;49m\u001B[43m]\u001B[49m\u001B[43m,\u001B[49m\u001B[43m \u001B[49m\u001B[43mazimuthals\u001B[49m\u001B[43m,\u001B[49m\u001B[43m \u001B[49m\u001B[43melevation\u001B[49m\u001B[43m,\u001B[49m\u001B[43m \u001B[49m\u001B[43mlidar_loc\u001B[49m\u001B[38;5;241;43m=\u001B[39;49m\u001B[43mlidar_location\u001B[49m\u001B[43m)\u001B[49m\n",
      "File \u001B[1;32m~\\PycharmProjects\\MAE579\\Wind Energy Project\\Slicing_and_Interp.py:25\u001B[0m, in \u001B[0;36mslice_points\u001B[1;34m(data, x, y, z, az, elev, lidar_loc)\u001B[0m\n\u001B[0;32m     22\u001B[0m vdata \u001B[38;5;241m=\u001B[39m data[:, :, :, \u001B[38;5;241m1\u001B[39m]\n\u001B[0;32m     23\u001B[0m rang \u001B[38;5;241m=\u001B[39m np\u001B[38;5;241m.\u001B[39mdivide(z, np\u001B[38;5;241m.\u001B[39msin(np\u001B[38;5;241m.\u001B[39mdeg2rad(elev)))\n\u001B[1;32m---> 25\u001B[0m uinterp \u001B[38;5;241m=\u001B[39m \u001B[43msp\u001B[49m\u001B[38;5;241;43m.\u001B[39;49m\u001B[43minterpolate\u001B[49m\u001B[38;5;241;43m.\u001B[39;49m\u001B[43mRegularGridInterpolator\u001B[49m\u001B[43m(\u001B[49m\u001B[43m(\u001B[49m\u001B[43mx\u001B[49m\u001B[43m,\u001B[49m\u001B[43m \u001B[49m\u001B[43my\u001B[49m\u001B[43m,\u001B[49m\u001B[43m \u001B[49m\u001B[43mz\u001B[49m\u001B[43m)\u001B[49m\u001B[43m,\u001B[49m\u001B[43m \u001B[49m\u001B[43mudata\u001B[49m\u001B[43m)\u001B[49m\n\u001B[0;32m     26\u001B[0m vinterp \u001B[38;5;241m=\u001B[39m sp\u001B[38;5;241m.\u001B[39minterpolate\u001B[38;5;241m.\u001B[39mRegularGridInterpolator((x, y, z), vdata)\n\u001B[0;32m     28\u001B[0m \u001B[38;5;28;01mif\u001B[39;00m np\u001B[38;5;241m.\u001B[39misnan(lidar_loc):\n",
      "File \u001B[1;32m~\\PycharmProjects\\pythonProject\\venv\\lib\\site-packages\\scipy\\interpolate\\_rgi.py:240\u001B[0m, in \u001B[0;36mRegularGridInterpolator.__init__\u001B[1;34m(self, points, values, method, bounds_error, fill_value)\u001B[0m\n\u001B[0;32m    238\u001B[0m \u001B[38;5;28mself\u001B[39m\u001B[38;5;241m.\u001B[39mmethod \u001B[38;5;241m=\u001B[39m method\n\u001B[0;32m    239\u001B[0m \u001B[38;5;28mself\u001B[39m\u001B[38;5;241m.\u001B[39mbounds_error \u001B[38;5;241m=\u001B[39m bounds_error\n\u001B[1;32m--> 240\u001B[0m \u001B[38;5;28mself\u001B[39m\u001B[38;5;241m.\u001B[39mgrid, \u001B[38;5;28mself\u001B[39m\u001B[38;5;241m.\u001B[39m_descending_dimensions \u001B[38;5;241m=\u001B[39m \u001B[43m_check_points\u001B[49m\u001B[43m(\u001B[49m\u001B[43mpoints\u001B[49m\u001B[43m)\u001B[49m\n\u001B[0;32m    241\u001B[0m \u001B[38;5;28mself\u001B[39m\u001B[38;5;241m.\u001B[39mvalues \u001B[38;5;241m=\u001B[39m \u001B[38;5;28mself\u001B[39m\u001B[38;5;241m.\u001B[39m_check_values(values)\n\u001B[0;32m    242\u001B[0m \u001B[38;5;28mself\u001B[39m\u001B[38;5;241m.\u001B[39m_check_dimensionality(\u001B[38;5;28mself\u001B[39m\u001B[38;5;241m.\u001B[39mgrid, \u001B[38;5;28mself\u001B[39m\u001B[38;5;241m.\u001B[39mvalues)\n",
      "File \u001B[1;32m~\\PycharmProjects\\pythonProject\\venv\\lib\\site-packages\\scipy\\interpolate\\_rgi.py:21\u001B[0m, in \u001B[0;36m_check_points\u001B[1;34m(points)\u001B[0m\n\u001B[0;32m     17\u001B[0m \u001B[38;5;28;01mfor\u001B[39;00m i, p \u001B[38;5;129;01min\u001B[39;00m \u001B[38;5;28menumerate\u001B[39m(points):\n\u001B[0;32m     18\u001B[0m     \u001B[38;5;66;03m# early make points float\u001B[39;00m\n\u001B[0;32m     19\u001B[0m     \u001B[38;5;66;03m# see https://github.com/scipy/scipy/pull/17230\u001B[39;00m\n\u001B[0;32m     20\u001B[0m     p \u001B[38;5;241m=\u001B[39m np\u001B[38;5;241m.\u001B[39masarray(p, dtype\u001B[38;5;241m=\u001B[39m\u001B[38;5;28mfloat\u001B[39m)\n\u001B[1;32m---> 21\u001B[0m     \u001B[38;5;28;01mif\u001B[39;00m \u001B[38;5;129;01mnot\u001B[39;00m np\u001B[38;5;241m.\u001B[39mall(\u001B[43mp\u001B[49m\u001B[43m[\u001B[49m\u001B[38;5;241;43m1\u001B[39;49m\u001B[43m:\u001B[49m\u001B[43m]\u001B[49m \u001B[38;5;241m>\u001B[39m p[:\u001B[38;5;241m-\u001B[39m\u001B[38;5;241m1\u001B[39m]):\n\u001B[0;32m     22\u001B[0m         \u001B[38;5;28;01mif\u001B[39;00m np\u001B[38;5;241m.\u001B[39mall(p[\u001B[38;5;241m1\u001B[39m:] \u001B[38;5;241m<\u001B[39m p[:\u001B[38;5;241m-\u001B[39m\u001B[38;5;241m1\u001B[39m]):\n\u001B[0;32m     23\u001B[0m             \u001B[38;5;66;03m# input is descending, so make it ascending\u001B[39;00m\n\u001B[0;32m     24\u001B[0m             descending_dimensions\u001B[38;5;241m.\u001B[39mappend(i)\n",
      "\u001B[1;31mIndexError\u001B[0m: too many indices for array: array is 0-dimensional, but 1 were indexed"
     ]
    }
   ],
   "source": [
    "import Slicing_and_Interp as SandI\n",
    "\n",
    "elevation = np.array([75])\n",
    "azimuthals = np.reshape(np.linspace(0, 360, 80), (-1, 1))\n",
    "lidar_location = np.array([x[50], y[50], 0])\n",
    "u_interp_val, v_interp_val, x_lidar, y_lidar, z_lidar = SandI.slice_points(space_kicked, x, y, z_location, azimuthals, elevation, lidar_loc=lidar_location)"
   ],
   "metadata": {
    "collapsed": false,
    "ExecuteTime": {
     "end_time": "2023-11-04T23:12:41.639820100Z",
     "start_time": "2023-11-04T23:12:40.650801700Z"
    }
   },
   "id": "634598bd5ff13b2"
  },
  {
   "cell_type": "code",
   "execution_count": null,
   "outputs": [],
   "source": [],
   "metadata": {
    "collapsed": false,
    "ExecuteTime": {
     "end_time": "2023-11-04T23:12:41.643803100Z",
     "start_time": "2023-11-04T23:12:41.640804700Z"
    }
   },
   "id": "5c68fd7db3c666e7"
  }
 ],
 "metadata": {
  "kernelspec": {
   "display_name": "Python 3",
   "language": "python",
   "name": "python3"
  },
  "language_info": {
   "codemirror_mode": {
    "name": "ipython",
    "version": 2
   },
   "file_extension": ".py",
   "mimetype": "text/x-python",
   "name": "python",
   "nbconvert_exporter": "python",
   "pygments_lexer": "ipython2",
   "version": "2.7.6"
  }
 },
 "nbformat": 4,
 "nbformat_minor": 5
}
